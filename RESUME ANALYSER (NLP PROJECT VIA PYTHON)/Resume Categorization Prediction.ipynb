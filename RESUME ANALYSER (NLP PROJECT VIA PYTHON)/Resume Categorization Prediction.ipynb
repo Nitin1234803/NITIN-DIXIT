{
 "cells": [
  {
   "cell_type": "markdown",
   "id": "af292e46",
   "metadata": {},
   "source": [
    "# 1. Import the dataset\n",
    "# 2. Data cleaning\n",
    "# 3. EDA\n",
    "# 4. Text Preprocessing\n",
    "# 5. Model building\n",
    "# 6. Website\n",
    "# 7. Deploy"
   ]
  },
  {
   "cell_type": "markdown",
   "id": "ee282924",
   "metadata": {},
   "source": [
    "# 1.IMPORT THE DATASET"
   ]
  },
  {
   "cell_type": "code",
   "execution_count": 61,
   "id": "ff73b99b",
   "metadata": {},
   "outputs": [],
   "source": [
    "import numpy as np\n",
    "import pandas as pd\n",
    "import matplotlib.pyplot as plt\n",
    "import seaborn as sns"
   ]
  },
  {
   "cell_type": "code",
   "execution_count": 62,
   "id": "7f5bc96c",
   "metadata": {},
   "outputs": [],
   "source": [
    "df = pd.read_csv('/Users/nitin/Downloads/Resume dataset.csv')"
   ]
  },
  {
   "cell_type": "code",
   "execution_count": 63,
   "id": "5cff7568",
   "metadata": {},
   "outputs": [
    {
     "data": {
      "text/html": [
       "<div>\n",
       "<style scoped>\n",
       "    .dataframe tbody tr th:only-of-type {\n",
       "        vertical-align: middle;\n",
       "    }\n",
       "\n",
       "    .dataframe tbody tr th {\n",
       "        vertical-align: top;\n",
       "    }\n",
       "\n",
       "    .dataframe thead th {\n",
       "        text-align: right;\n",
       "    }\n",
       "</style>\n",
       "<table border=\"1\" class=\"dataframe\">\n",
       "  <thead>\n",
       "    <tr style=\"text-align: right;\">\n",
       "      <th></th>\n",
       "      <th>Category</th>\n",
       "      <th>Resume</th>\n",
       "    </tr>\n",
       "  </thead>\n",
       "  <tbody>\n",
       "    <tr>\n",
       "      <th>0</th>\n",
       "      <td>Frontend Developer</td>\n",
       "      <td>As a seasoned Frontend Developer, I have a pro...</td>\n",
       "    </tr>\n",
       "    <tr>\n",
       "      <th>1</th>\n",
       "      <td>Backend Developer</td>\n",
       "      <td>With a solid background in Backend Development...</td>\n",
       "    </tr>\n",
       "    <tr>\n",
       "      <th>2</th>\n",
       "      <td>Python Developer</td>\n",
       "      <td>As a Python Developer, I leverage my expertise...</td>\n",
       "    </tr>\n",
       "    <tr>\n",
       "      <th>3</th>\n",
       "      <td>Data Scientist</td>\n",
       "      <td>With a background in Data Science, I possess a...</td>\n",
       "    </tr>\n",
       "    <tr>\n",
       "      <th>4</th>\n",
       "      <td>Frontend Developer</td>\n",
       "      <td>Experienced Frontend Developer with a passion ...</td>\n",
       "    </tr>\n",
       "  </tbody>\n",
       "</table>\n",
       "</div>"
      ],
      "text/plain": [
       "             Category                                             Resume\n",
       "0  Frontend Developer  As a seasoned Frontend Developer, I have a pro...\n",
       "1   Backend Developer  With a solid background in Backend Development...\n",
       "2    Python Developer  As a Python Developer, I leverage my expertise...\n",
       "3      Data Scientist  With a background in Data Science, I possess a...\n",
       "4  Frontend Developer  Experienced Frontend Developer with a passion ..."
      ]
     },
     "execution_count": 63,
     "metadata": {},
     "output_type": "execute_result"
    }
   ],
   "source": [
    "df.head()"
   ]
  },
  {
   "cell_type": "code",
   "execution_count": 64,
   "id": "f95a6d9d",
   "metadata": {},
   "outputs": [
    {
     "data": {
      "text/plain": [
       "(400, 2)"
      ]
     },
     "execution_count": 64,
     "metadata": {},
     "output_type": "execute_result"
    }
   ],
   "source": [
    "df.shape"
   ]
  },
  {
   "cell_type": "markdown",
   "id": "e6bd2eec",
   "metadata": {},
   "source": [
    "# 2. Data cleaning"
   ]
  },
  {
   "cell_type": "code",
   "execution_count": 65,
   "id": "0411168c",
   "metadata": {},
   "outputs": [
    {
     "name": "stdout",
     "output_type": "stream",
     "text": [
      "<class 'pandas.core.frame.DataFrame'>\n",
      "RangeIndex: 400 entries, 0 to 399\n",
      "Data columns (total 2 columns):\n",
      " #   Column    Non-Null Count  Dtype \n",
      "---  ------    --------------  ----- \n",
      " 0   Category  400 non-null    object\n",
      " 1   Resume    400 non-null    object\n",
      "dtypes: object(2)\n",
      "memory usage: 6.4+ KB\n"
     ]
    }
   ],
   "source": [
    "df.info()"
   ]
  },
  {
   "cell_type": "code",
   "execution_count": 66,
   "id": "6f19b769",
   "metadata": {},
   "outputs": [
    {
     "data": {
      "text/plain": [
       "Category    0\n",
       "Resume      0\n",
       "dtype: int64"
      ]
     },
     "execution_count": 66,
     "metadata": {},
     "output_type": "execute_result"
    }
   ],
   "source": [
    "# missing values\n",
    "df.isnull().sum()"
   ]
  },
  {
   "cell_type": "code",
   "execution_count": 67,
   "id": "ac2b1849",
   "metadata": {},
   "outputs": [
    {
     "data": {
      "text/plain": [
       "212"
      ]
     },
     "execution_count": 67,
     "metadata": {},
     "output_type": "execute_result"
    }
   ],
   "source": [
    "# check for duplicate values\n",
    "df.duplicated().sum()"
   ]
  },
  {
   "cell_type": "code",
   "execution_count": 68,
   "id": "32622c97",
   "metadata": {},
   "outputs": [],
   "source": [
    "# remove duplicates\n",
    "df = df.drop_duplicates(keep='first')"
   ]
  },
  {
   "cell_type": "code",
   "execution_count": 69,
   "id": "a9e7b344",
   "metadata": {},
   "outputs": [
    {
     "data": {
      "text/plain": [
       "0"
      ]
     },
     "execution_count": 69,
     "metadata": {},
     "output_type": "execute_result"
    }
   ],
   "source": [
    "df.duplicated().sum()"
   ]
  },
  {
   "cell_type": "code",
   "execution_count": 70,
   "id": "4ccdd4b0",
   "metadata": {},
   "outputs": [
    {
     "data": {
      "text/plain": [
       "(188, 2)"
      ]
     },
     "execution_count": 70,
     "metadata": {},
     "output_type": "execute_result"
    }
   ],
   "source": [
    "df.shape"
   ]
  },
  {
   "cell_type": "markdown",
   "id": "744c8f66",
   "metadata": {},
   "source": [
    "# 3. EDA"
   ]
  },
  {
   "cell_type": "code",
   "execution_count": 71,
   "id": "7ededc57",
   "metadata": {},
   "outputs": [
    {
     "data": {
      "text/plain": [
       "Full Stack Developer                  30\n",
       "Data Scientist                        29\n",
       "Frontend Developer                    24\n",
       "Mobile App Developer (iOS/Android)    23\n",
       "Cloud Engineer                        23\n",
       "Python Developer                      22\n",
       "Backend Developer                     19\n",
       "Machine Learning Engineer             18\n",
       "Name: Category, dtype: int64"
      ]
     },
     "execution_count": 71,
     "metadata": {},
     "output_type": "execute_result"
    }
   ],
   "source": [
    "df['Category'].value_counts()"
   ]
  },
  {
   "cell_type": "code",
   "execution_count": 72,
   "id": "c185808b",
   "metadata": {},
   "outputs": [
    {
     "data": {
      "image/png": "[encoded data removed]",
      "text/plain": [
       "<Figure size 640x480 with 1 Axes>"
      ]
     },
     "metadata": {},
     "output_type": "display_data"
    }
   ],
   "source": [
    "import matplotlib.pyplot as plt\n",
    "plt.pie(df['Category'].value_counts(), labels=['Frontend Developer', 'Backend Developer', 'Python Developer',\n",
    "       'Data Scientist', 'Full Stack Developer',\n",
    "       'Mobile App Developer (iOS/Android)', 'Machine Learning Engineer',\n",
    "       'Cloud Engineer'],autopct=\"%0.2f\")\n",
    "plt.show()"
   ]
  },
  {
   "cell_type": "code",
   "execution_count": 73,
   "id": "f1ef8a11",
   "metadata": {},
   "outputs": [
    {
     "data": {
      "text/plain": [
       "array(['Frontend Developer', 'Backend Developer', 'Python Developer',\n",
       "       'Data Scientist', 'Full Stack Developer',\n",
       "       'Mobile App Developer (iOS/Android)', 'Machine Learning Engineer',\n",
       "       'Cloud Engineer'], dtype=object)"
      ]
     },
     "execution_count": 73,
     "metadata": {},
     "output_type": "execute_result"
    }
   ],
   "source": [
    "df['Category'].unique()"
   ]
  },
  {
   "cell_type": "code",
   "execution_count": 74,
   "id": "8a97c061",
   "metadata": {},
   "outputs": [
    {
     "data": {
      "text/plain": [
       "'Frontend Developer'"
      ]
     },
     "execution_count": 74,
     "metadata": {},
     "output_type": "execute_result"
    }
   ],
   "source": [
    "df['Category'][0]"
   ]
  },
  {
   "cell_type": "code",
   "execution_count": 75,
   "id": "66bc53d7",
   "metadata": {},
   "outputs": [
    {
     "data": {
      "text/plain": [
       "'As a seasoned Frontend Developer, I have a proven track record of crafting stunning and responsive user interfaces for web applications. With over 5 years of experience, I am proficient in HTML, CSS, and JavaScript, and I have a deep understanding of modern frontend frameworks such as React, Vue.js, and Angular. I excel in translating design mockups into pixel-perfect, cross-browser compatible UIs, ensuring an optimal user experience across devices. Additionally, I am well-versed in CSS preprocessors like Sass and LESS, enabling me to write clean and maintainable stylesheets. My passion for UI/UX design drives me to stay updated with the latest trends and best practices in the industry, allowing me to create visually appealing and intuitive interfaces that engage users. I am a collaborative team player with excellent communication skills, able to work closely with designers, backend developers, and stakeholders to deliver high-quality frontend solutions on time and within budget.'"
      ]
     },
     "execution_count": 75,
     "metadata": {},
     "output_type": "execute_result"
    }
   ],
   "source": [
    "df['Resume'][0]"
   ]
  },
  {
   "cell_type": "markdown",
   "id": "639b4549",
   "metadata": {},
   "source": [
    "# 4. Cleaning Data:                                      \n",
    "1 URLs,                                                \n",
    "2 hashtags,                                             \n",
    "3 mentions,                                                     \n",
    "4 special letters,                                             \n",
    "5 punctuations:                                             "
   ]
  },
  {
   "cell_type": "code",
   "execution_count": 76,
   "id": "16656511",
   "metadata": {},
   "outputs": [],
   "source": [
    "import re\n",
    "def cleanResume(txt):\n",
    "    cleanText = re.sub('http\\S+\\s', ' ', txt)\n",
    "    cleanText = re.sub('RT|cc', ' ', cleanText)\n",
    "    cleanText = re.sub('#\\S+\\s', ' ', cleanText)\n",
    "    cleanText = re.sub('@\\S+', '  ', cleanText)  \n",
    "    cleanText = re.sub('[%s]' % re.escape(\"\"\"!\"#$%&'()*+,-./:;<=>?@[\\]^_`{|}~\"\"\"), ' ', cleanText)\n",
    "    cleanText = re.sub(r'[^\\x00-\\x7f]', ' ', cleanText) \n",
    "    cleanText = re.sub('\\s+', ' ', cleanText)\n",
    "    return cleanText"
   ]
  },
  {
   "cell_type": "code",
   "execution_count": 77,
   "id": "8b2c86ba",
   "metadata": {},
   "outputs": [
    {
     "data": {
      "text/plain": [
       "'my webiste like is this and a ess it '"
      ]
     },
     "execution_count": 77,
     "metadata": {},
     "output_type": "execute_result"
    }
   ],
   "source": [
    "cleanResume(\"my #### $ #  #noorsaeed webiste like is this http://heloword and access it @gmain.com\")"
   ]
  },
  {
   "cell_type": "code",
   "execution_count": 78,
   "id": "e752795a",
   "metadata": {},
   "outputs": [],
   "source": [
    "df['Resume'] = df['Resume'].apply(lambda x: cleanResume(x))"
   ]
  },
  {
   "cell_type": "code",
   "execution_count": 79,
   "id": "ba537207",
   "metadata": {},
   "outputs": [
    {
     "data": {
      "text/plain": [
       "'As a seasoned Frontend Developer I have a proven track record of crafting stunning and responsive user interfaces for web applications With over 5 years of experience I am proficient in HTML CSS and JavaScript and I have a deep understanding of modern frontend frameworks such as React Vue js and Angular I excel in translating design mockups into pixel perfect cross browser compatible UIs ensuring an optimal user experience across devices Additionally I am well versed in CSS preprocessors like Sass and LESS enabling me to write clean and maintainable stylesheets My passion for UI UX design drives me to stay updated with the latest trends and best practices in the industry allowing me to create visually appealing and intuitive interfaces that engage users I am a collaborative team player with excellent communication skills able to work closely with designers backend developers and stakeholders to deliver high quality frontend solutions on time and within budget '"
      ]
     },
     "execution_count": 79,
     "metadata": {},
     "output_type": "execute_result"
    }
   ],
   "source": [
    "df['Resume'][0]"
   ]
  },
  {
   "cell_type": "code",
   "execution_count": 80,
   "id": "72994ec0",
   "metadata": {},
   "outputs": [],
   "source": [
    "from sklearn.preprocessing import LabelEncoder\n",
    "le = LabelEncoder()"
   ]
  },
  {
   "cell_type": "code",
   "execution_count": 81,
   "id": "af36ab05",
   "metadata": {},
   "outputs": [],
   "source": [
    "le.fit(df['Category'])\n",
    "df['Category'] = le.transform(df['Category'])"
   ]
  },
  {
   "cell_type": "code",
   "execution_count": 82,
   "id": "0c4bd0dc",
   "metadata": {},
   "outputs": [
    {
     "data": {
      "text/plain": [
       "array([3, 0, 7, 2, 4, 6, 5, 1])"
      ]
     },
     "execution_count": 82,
     "metadata": {},
     "output_type": "execute_result"
    }
   ],
   "source": [
    "df.Category.unique()"
   ]
  },
  {
   "cell_type": "markdown",
   "id": "7d8370d1",
   "metadata": {},
   "source": [
    "('Frontend Developer', 'Backend Developer', 'Python Developer',\n",
    " 'Data Scientist', 'Full Stack Developer',\n",
    "  'Mobile App Developer (iOS/Android)', 'Machine Learning Engineer',\n",
    "    'Cloud Engineer')"
   ]
  },
  {
   "cell_type": "markdown",
   "id": "2a65059b",
   "metadata": {},
   "source": [
    "# 5. Model building"
   ]
  },
  {
   "cell_type": "code",
   "execution_count": 83,
   "id": "d0e3603a",
   "metadata": {},
   "outputs": [],
   "source": [
    "from sklearn.feature_extraction.text import TfidfVectorizer\n",
    "tfidf = TfidfVectorizer(stop_words='english')\n",
    "\n",
    "tfidf.fit(df['Resume'])\n",
    "requredTaxt  = tfidf.transform(df['Resume'])"
   ]
  },
  {
   "cell_type": "code",
   "execution_count": 84,
   "id": "0f67afa8",
   "metadata": {},
   "outputs": [],
   "source": [
    "from sklearn.model_selection import train_test_split"
   ]
  },
  {
   "cell_type": "code",
   "execution_count": 85,
   "id": "ab60004d",
   "metadata": {},
   "outputs": [],
   "source": [
    "X_train, X_test, y_train, y_test = train_test_split(requredTaxt, df['Category'], test_size=0.2, random_state=42)"
   ]
  },
  {
   "cell_type": "code",
   "execution_count": 86,
   "id": "8d542f0f",
   "metadata": {},
   "outputs": [
    {
     "data": {
      "text/plain": [
       "(150, 1118)"
      ]
     },
     "execution_count": 86,
     "metadata": {},
     "output_type": "execute_result"
    }
   ],
   "source": [
    "X_train.shape"
   ]
  },
  {
   "cell_type": "code",
   "execution_count": 87,
   "id": "bc6048f4",
   "metadata": {},
   "outputs": [
    {
     "data": {
      "text/plain": [
       "(38, 1118)"
      ]
     },
     "execution_count": 87,
     "metadata": {},
     "output_type": "execute_result"
    }
   ],
   "source": [
    "X_test.shape"
   ]
  },
  {
   "cell_type": "code",
   "execution_count": 88,
   "id": "d24938b1",
   "metadata": {},
   "outputs": [
    {
     "name": "stdout",
     "output_type": "stream",
     "text": [
      "1.0\n",
      "[[6 0 0 0 0 0 0 0]\n",
      " [0 4 0 0 0 0 0 0]\n",
      " [0 0 7 0 0 0 0 0]\n",
      " [0 0 0 3 0 0 0 0]\n",
      " [0 0 0 0 3 0 0 0]\n",
      " [0 0 0 0 0 4 0 0]\n",
      " [0 0 0 0 0 0 2 0]\n",
      " [0 0 0 0 0 0 0 9]]\n",
      "Precision Score :  1.0\n",
      "Recall Score :  1.0\n"
     ]
    },
    {
     "name": "stderr",
     "output_type": "stream",
     "text": [
      "C:\\Users\\nitin\\AppData\\Local\\Programs\\Python\\Python311\\Lib\\site-packages\\sklearn\\metrics\\_classification.py:1396: UserWarning: Note that pos_label (set to 'positive') is ignored when average != 'binary' (got 'macro'). You may use labels=[pos_label] to specify a single positive class.\n",
      "  warnings.warn(\n",
      "C:\\Users\\nitin\\AppData\\Local\\Programs\\Python\\Python311\\Lib\\site-packages\\sklearn\\metrics\\_classification.py:1396: UserWarning: Note that pos_label (set to 'positive') is ignored when average != 'binary' (got 'macro'). You may use labels=[pos_label] to specify a single positive class.\n",
      "  warnings.warn(\n"
     ]
    }
   ],
   "source": [
    "from sklearn.ensemble import RandomForestClassifier\n",
    "from sklearn.metrics import accuracy_score, confusion_matrix,precision_score,recall_score\n",
    "clf = RandomForestClassifier()\n",
    "clf.fit(X_train,y_train)\n",
    "ypred = clf.predict(X_test)\n",
    "print(accuracy_score(y_test,ypred))\n",
    "print(confusion_matrix(y_test,ypred))\n",
    "print(\"Precision Score : \",precision_score(y_test, ypred, \n",
    "                                           pos_label='positive',\n",
    "                                           average='macro'))\n",
    "print(\"Recall Score : \",recall_score(y_test, ypred, \n",
    "                                           pos_label='positive',\n",
    "                                           average='macro'))"
   ]
  },
  {
   "cell_type": "code",
   "execution_count": 89,
   "id": "aa41007d",
   "metadata": {},
   "outputs": [
    {
     "data": {
      "text/plain": [
       "array([1, 7, 0, 2, 0, 0, 5, 7, 2, 6, 3, 0, 5, 7, 3, 0, 1, 7, 6, 2, 4, 2,\n",
       "       4, 7, 1, 1, 3, 2, 7, 5, 2, 7, 7, 2, 7, 5, 0, 4])"
      ]
     },
     "execution_count": 89,
     "metadata": {},
     "output_type": "execute_result"
    }
   ],
   "source": [
    "ypred"
   ]
  },
  {
   "cell_type": "code",
   "execution_count": 90,
   "id": "716d3471",
   "metadata": {
    "scrolled": true
   },
   "outputs": [],
   "source": [
    "import pickle\n",
    "pickle.dump(tfidf,open('tfidf.pkl','wb'))\n",
    "pickle.dump(clf, open('clf.pkl', 'wb'))\n"
   ]
  },
  {
   "cell_type": "code",
   "execution_count": null,
   "id": "d49eec9d",
   "metadata": {},
   "outputs": [],
   "source": []
  }
 ],
 "metadata": {
  "kernelspec": {
   "display_name": "Python 3 (ipykernel)",
   "language": "python",
   "name": "python3"
  },
  "language_info": {
   "codemirror_mode": {
    "name": "ipython",
    "version": 3
   },
   "file_extension": ".py",
   "mimetype": "text/x-python",
   "name": "python",
   "nbconvert_exporter": "python",
   "pygments_lexer": "ipython3",
   "version": "3.11.1"
  }
 },
 "nbformat": 4,
 "nbformat_minor": 5
}
