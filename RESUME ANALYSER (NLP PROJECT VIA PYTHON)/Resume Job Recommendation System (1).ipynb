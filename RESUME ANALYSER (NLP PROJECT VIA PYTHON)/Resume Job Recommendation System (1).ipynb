{
 "cells": [
  {
   "cell_type": "code",
   "execution_count": 16,
   "id": "1299bed4",
   "metadata": {},
   "outputs": [],
   "source": [
    "import pandas as pd"
   ]
  },
  {
   "cell_type": "code",
   "execution_count": 17,
   "id": "b1e014d0",
   "metadata": {},
   "outputs": [],
   "source": [
    "df = pd.read_csv(\"/Users/nitin/Downloads/Resume dataset.csv\")"
   ]
  },
  {
   "cell_type": "code",
   "execution_count": 18,
   "id": "41b68c18",
   "metadata": {},
   "outputs": [
    {
     "data": {
      "text/html": [
       "<div>\n",
       "<style scoped>\n",
       "    .dataframe tbody tr th:only-of-type {\n",
       "        vertical-align: middle;\n",
       "    }\n",
       "\n",
       "    .dataframe tbody tr th {\n",
       "        vertical-align: top;\n",
       "    }\n",
       "\n",
       "    .dataframe thead th {\n",
       "        text-align: right;\n",
       "    }\n",
       "</style>\n",
       "<table border=\"1\" class=\"dataframe\">\n",
       "  <thead>\n",
       "    <tr style=\"text-align: right;\">\n",
       "      <th></th>\n",
       "      <th>Category</th>\n",
       "      <th>Resume</th>\n",
       "    </tr>\n",
       "  </thead>\n",
       "  <tbody>\n",
       "    <tr>\n",
       "      <th>0</th>\n",
       "      <td>Frontend Developer</td>\n",
       "      <td>As a seasoned Frontend Developer, I have a pro...</td>\n",
       "    </tr>\n",
       "    <tr>\n",
       "      <th>1</th>\n",
       "      <td>Backend Developer</td>\n",
       "      <td>With a solid background in Backend Development...</td>\n",
       "    </tr>\n",
       "    <tr>\n",
       "      <th>2</th>\n",
       "      <td>Python Developer</td>\n",
       "      <td>As a Python Developer, I leverage my expertise...</td>\n",
       "    </tr>\n",
       "    <tr>\n",
       "      <th>3</th>\n",
       "      <td>Data Scientist</td>\n",
       "      <td>With a background in Data Science, I possess a...</td>\n",
       "    </tr>\n",
       "    <tr>\n",
       "      <th>4</th>\n",
       "      <td>Frontend Developer</td>\n",
       "      <td>Experienced Frontend Developer with a passion ...</td>\n",
       "    </tr>\n",
       "  </tbody>\n",
       "</table>\n",
       "</div>"
      ],
      "text/plain": [
       "             Category                                             Resume\n",
       "0  Frontend Developer  As a seasoned Frontend Developer, I have a pro...\n",
       "1   Backend Developer  With a solid background in Backend Development...\n",
       "2    Python Developer  As a Python Developer, I leverage my expertise...\n",
       "3      Data Scientist  With a background in Data Science, I possess a...\n",
       "4  Frontend Developer  Experienced Frontend Developer with a passion ..."
      ]
     },
     "execution_count": 18,
     "metadata": {},
     "output_type": "execute_result"
    }
   ],
   "source": [
    "df.head()"
   ]
  },
  {
   "cell_type": "code",
   "execution_count": 19,
   "id": "a8856e34",
   "metadata": {},
   "outputs": [
    {
     "data": {
      "text/plain": [
       "Index(['Category', 'Resume'], dtype='object')"
      ]
     },
     "execution_count": 19,
     "metadata": {},
     "output_type": "execute_result"
    }
   ],
   "source": [
    "df.columns"
   ]
  },
  {
   "cell_type": "code",
   "execution_count": 20,
   "id": "abad1791",
   "metadata": {},
   "outputs": [
    {
     "data": {
      "text/plain": [
       "Dynamic Python Developer with expertise in building robust and scalable software solutions. Proficient in Python programming language and libraries such as Pandas and NumPy for data manipulation and analysis. Skilled in developing RESTful APIs using Django and Flask frameworks. Led projects such as building recommendation engines for personalized content delivery, implementing data validation and sanitization techniques for security, and deploying applications to cloud platforms such as AWS and Google Cloud. Also contributed to projects including writing documentation for codebase maintenance, and conducting code reviews for peer feedback. Actively exploring new Python libraries and frameworks to improve development workflows.                                                                                                                                                                                                             6\n",
       "Innovative Python Developer with a passion for solving complex problems with elegant solutions. Proficient in Python programming language and frameworks such as Django and Flask for web development. Skilled in data analysis and visualization using libraries such as Matplotlib and Seaborn. Led projects such as building web scrapers for data collection, implementing custom data processing pipelines for analytics, and developing microservices architectures for scalable applications. Also contributed to projects including writing unit tests for code quality assurance, and setting up continuous integration pipelines for automated testing and deployment. Actively contributing to open-source Python projects and sharing knowledge through technical blogs and tutorials.                                                                                                                                                                           6\n",
       "Passionate Python Developer with a focus on building scalable and maintainable software solutions. Proficient in Python programming language and libraries such as TensorFlow and Keras for deep learning applications. Skilled in developing web applications using Django and FastAPI frameworks. Led projects such as implementing natural language processing algorithms for text classification, developing recommendation systems for personalized content, and deploying machine learning models to production environments. Also contributed to projects including optimizing SQL queries for database performance, and integrating third-party APIs for enhanced functionality. Actively participating in Python meetups and conferences to stay updated with emerging trends and technologies in software development.                                                                                                                                             6\n",
       "Experienced Python Developer with a strong background in software development and engineering. Proficient in Python programming language and related libraries such as NumPy, Pandas, and Scikit-learn for data analysis and machine learning. Skilled in developing web applications using Django and Flask frameworks. Led projects such as building data pipelines for ETL processes, implementing predictive models for financial forecasting, and developing RESTful APIs for web services. Also contributed to projects including automating repetitive tasks with Python scripting, and optimizing code performance through profiling and optimization techniques. Actively staying updated with the latest Python technologies and best practices through continuous learning and participation in developer communities.                                                                                                                                            6\n",
       "Dynamic Backend Developer with a focus on designing and implementing efficient and scalable server-side solutions. Proficient in programming languages such as Java, Python, and Node.js, with experience in frameworks such as Spring Boot, Django, and Express.js. Skilled in database design, API development, and cloud deployment. Led projects such as building microservices architectures for e-commerce platforms, developing backend systems for mobile applications, and optimizing backend performance for high traffic websites. Also contributed to projects including implementing authentication and authorization mechanisms, integrating with third-party APIs, and ensuring compliance with security standards such as OWASP. Actively participating in backend development meetups and workshops to stay updated with the latest industry trends and technologies.                                                                                       5\n",
       "                                                                                                                                                                                                                                                                                                                                                                                                                                                                                                                                                                                                                                                                                                                                                                                                                                                                                                                                                                            ..\n",
       "Creative Mobile App Developer with a passion for building innovative and feature-rich mobile applications. Proficient in iOS development using Swift and Objective-C, and Android development using Java and Kotlin. Skilled in designing and implementing user interfaces with a focus on usability and aesthetics. Experienced in integrating APIs and SDKs for various functionalities like push notifications, social media sharing, and location tracking. Led projects such as a social media app with photo sharing using Swift and Firebase for iOS, and a transportation app with real-time navigation using Kotlin and Google Maps SDK for Android. Also contributed to projects including a music player app with offline mode using Objective-C and AVFoundation for iOS, and a recipe app with search and filtering using Java and SQLite for Android. Actively participating in hackathons and coding challenges to showcase mobile app development skills.    1\n",
       "Dynamic Mobile App Developer with a strong background in both iOS and Android platforms. Proficient in programming languages such as Swift, Objective-C, Java, and Kotlin. Skilled in using modern development frameworks and libraries like SwiftUI, Android Jetpack, and Flutter. Experienced in implementing user authentication, data storage, and networking functionalities in mobile apps. Led projects such as an e-commerce app with payment integration using Swift and Stripe for iOS, and a food delivery app with real-time tracking using Kotlin and Google Maps API for Android. Also contributed to projects including a ride-sharing app with ride scheduling using Objective-C and MapKit for iOS, and a weather app with offline mode using Java and SQLite for Android. Actively exploring new mobile development tools and technologies to improve app performance and user experience.                                                                 1\n",
       "Passionate Mobile App Developer with a focus on creating intuitive and user-friendly mobile applications. Proficient in iOS development using Swift and Objective-C, and Android development using Java and Kotlin. Skilled in UI/UX design principles and implementing responsive layouts for various screen sizes. Experienced in using development tools like Xcode and Android Studio for app development. Led projects such as a productivity app with task management features using Swift and CoreData for iOS, and a travel planning app with location tracking using Kotlin and Room for Android. Also contributed to projects including a finance management app with biometric authentication using Swift and Keychain for iOS, and a music streaming app with offline mode using Kotlin and MediaPlayer for Android. Actively participating in online communities and attending workshops to enhance mobile app development skills.                              1\n",
       "Innovative Mobile App Developer with expertise in both iOS and Android platforms. Proficient in programming languages such as Swift and Objective-C for iOS development, and Java and Kotlin for Android development. Skilled in using development frameworks like SwiftUI and UIKit for iOS, and Android Jetpack and Flutter for Android. Experienced in integrating RESTful APIs and third-party SDKs for various functionalities. Led projects such as a social networking app with real-time messaging using Swift and Firebase for iOS, and a location-based service app using Kotlin and Google Maps API for Android. Also contributed to projects including a fitness tracking app with Bluetooth connectivity using Swift and Core Bluetooth, and a multimedia streaming app with offline mode using Kotlin and ExoPlayer. Actively learning and adopting new technologies to stay updated with the latest trends in mobile app development.                         1\n",
       "Dynamic Full Stack Developer specializing in building responsive and interactive web applications. Proficient in front-end technologies such as HTML, CSS, JavaScript (React, Angular) and back-end technologies such as Node.js, Django, and Laravel. Skilled in database management using SQL (MySQL, PostgreSQL) and NoSQL (MongoDB) databases. Led projects such as developing collaborative project management tools, building e-learning platforms, and implementing custom CRM solutions. Also contributed to projects including integrating with third-party APIs, implementing user authentication and authorization, and optimizing application performance and security. Actively participating in developer communities and contributing to open-source projects to foster collaboration and innovation.                                                                                                                                                         1\n",
       "Name: Resume, Length: 188, dtype: int64"
      ]
     },
     "execution_count": 20,
     "metadata": {},
     "output_type": "execute_result"
    }
   ],
   "source": [
    "df['Resume'].value_counts()"
   ]
  },
  {
   "cell_type": "code",
   "execution_count": 21,
   "id": "c05f0b22",
   "metadata": {},
   "outputs": [],
   "source": [
    "# # Select relevant features\n",
    "# selected_features = ['Experience','Job Title', 'Qualifications', 'skills', 'Responsibilities', 'Company Size',]\n",
    "\n",
    "# # Merge selected features into one column\n",
    "# df['Features'] = df[selected_features].apply(lambda x: ' '.join(x.dropna().astype(str)), axis=1)\n",
    "\n",
    "# # Drop the individual feature columns\n",
    "# df.drop(columns=selected_features, inplace=True)\n",
    "# # Drop all columns except 'Role' and 'Features'\n",
    "# df.drop(columns=[col for col in df.columns if col not in ['Role', 'Features']], inplace=True)\n",
    "# # Save the modified dataset\n",
    "# df.to_csv('jobs_dataset_with_features.csv', index=False)"
   ]
  },
  {
   "cell_type": "code",
   "execution_count": 22,
   "id": "017ff417",
   "metadata": {},
   "outputs": [],
   "source": [
    "df = pd.read_csv(\"/Users/nitin/Downloads/Resume dataset.csv\")"
   ]
  },
  {
   "cell_type": "code",
   "execution_count": 23,
   "id": "ed7fa217",
   "metadata": {},
   "outputs": [
    {
     "data": {
      "text/plain": [
       "(400, 2)"
      ]
     },
     "execution_count": 23,
     "metadata": {},
     "output_type": "execute_result"
    }
   ],
   "source": [
    "df.shape"
   ]
  },
  {
   "cell_type": "code",
   "execution_count": 24,
   "id": "7c1c2609",
   "metadata": {},
   "outputs": [
    {
     "data": {
      "text/html": [
       "<div>\n",
       "<style scoped>\n",
       "    .dataframe tbody tr th:only-of-type {\n",
       "        vertical-align: middle;\n",
       "    }\n",
       "\n",
       "    .dataframe tbody tr th {\n",
       "        vertical-align: top;\n",
       "    }\n",
       "\n",
       "    .dataframe thead th {\n",
       "        text-align: right;\n",
       "    }\n",
       "</style>\n",
       "<table border=\"1\" class=\"dataframe\">\n",
       "  <thead>\n",
       "    <tr style=\"text-align: right;\">\n",
       "      <th></th>\n",
       "      <th>Category</th>\n",
       "      <th>Resume</th>\n",
       "    </tr>\n",
       "  </thead>\n",
       "  <tbody>\n",
       "    <tr>\n",
       "      <th>0</th>\n",
       "      <td>Frontend Developer</td>\n",
       "      <td>As a seasoned Frontend Developer, I have a pro...</td>\n",
       "    </tr>\n",
       "    <tr>\n",
       "      <th>1</th>\n",
       "      <td>Backend Developer</td>\n",
       "      <td>With a solid background in Backend Development...</td>\n",
       "    </tr>\n",
       "    <tr>\n",
       "      <th>2</th>\n",
       "      <td>Python Developer</td>\n",
       "      <td>As a Python Developer, I leverage my expertise...</td>\n",
       "    </tr>\n",
       "    <tr>\n",
       "      <th>3</th>\n",
       "      <td>Data Scientist</td>\n",
       "      <td>With a background in Data Science, I possess a...</td>\n",
       "    </tr>\n",
       "    <tr>\n",
       "      <th>4</th>\n",
       "      <td>Frontend Developer</td>\n",
       "      <td>Experienced Frontend Developer with a passion ...</td>\n",
       "    </tr>\n",
       "  </tbody>\n",
       "</table>\n",
       "</div>"
      ],
      "text/plain": [
       "             Category                                             Resume\n",
       "0  Frontend Developer  As a seasoned Frontend Developer, I have a pro...\n",
       "1   Backend Developer  With a solid background in Backend Development...\n",
       "2    Python Developer  As a Python Developer, I leverage my expertise...\n",
       "3      Data Scientist  With a background in Data Science, I possess a...\n",
       "4  Frontend Developer  Experienced Frontend Developer with a passion ..."
      ]
     },
     "execution_count": 24,
     "metadata": {},
     "output_type": "execute_result"
    }
   ],
   "source": [
    "df.head()"
   ]
  },
  {
   "cell_type": "code",
   "execution_count": 25,
   "id": "175e64af",
   "metadata": {},
   "outputs": [
    {
     "data": {
      "text/plain": [
       "188"
      ]
     },
     "execution_count": 25,
     "metadata": {},
     "output_type": "execute_result"
    }
   ],
   "source": [
    "len(df['Resume'].value_counts())"
   ]
  },
  {
   "cell_type": "code",
   "execution_count": 26,
   "id": "42196e26",
   "metadata": {},
   "outputs": [
    {
     "data": {
      "text/html": [
       "<div>\n",
       "<style scoped>\n",
       "    .dataframe tbody tr th:only-of-type {\n",
       "        vertical-align: middle;\n",
       "    }\n",
       "\n",
       "    .dataframe tbody tr th {\n",
       "        vertical-align: top;\n",
       "    }\n",
       "\n",
       "    .dataframe thead th {\n",
       "        text-align: right;\n",
       "    }\n",
       "</style>\n",
       "<table border=\"1\" class=\"dataframe\">\n",
       "  <thead>\n",
       "    <tr style=\"text-align: right;\">\n",
       "      <th></th>\n",
       "      <th>Category</th>\n",
       "      <th>Resume</th>\n",
       "    </tr>\n",
       "  </thead>\n",
       "  <tbody>\n",
       "    <tr>\n",
       "      <th>0</th>\n",
       "      <td>Frontend Developer</td>\n",
       "      <td>As a seasoned Frontend Developer, I have a pro...</td>\n",
       "    </tr>\n",
       "    <tr>\n",
       "      <th>1</th>\n",
       "      <td>Backend Developer</td>\n",
       "      <td>With a solid background in Backend Development...</td>\n",
       "    </tr>\n",
       "    <tr>\n",
       "      <th>2</th>\n",
       "      <td>Python Developer</td>\n",
       "      <td>As a Python Developer, I leverage my expertise...</td>\n",
       "    </tr>\n",
       "    <tr>\n",
       "      <th>3</th>\n",
       "      <td>Data Scientist</td>\n",
       "      <td>With a background in Data Science, I possess a...</td>\n",
       "    </tr>\n",
       "    <tr>\n",
       "      <th>4</th>\n",
       "      <td>Frontend Developer</td>\n",
       "      <td>Experienced Frontend Developer with a passion ...</td>\n",
       "    </tr>\n",
       "  </tbody>\n",
       "</table>\n",
       "</div>"
      ],
      "text/plain": [
       "             Category                                             Resume\n",
       "0  Frontend Developer  As a seasoned Frontend Developer, I have a pro...\n",
       "1   Backend Developer  With a solid background in Backend Development...\n",
       "2    Python Developer  As a Python Developer, I leverage my expertise...\n",
       "3      Data Scientist  With a background in Data Science, I possess a...\n",
       "4  Frontend Developer  Experienced Frontend Developer with a passion ..."
      ]
     },
     "execution_count": 26,
     "metadata": {},
     "output_type": "execute_result"
    }
   ],
   "source": [
    "df.head()"
   ]
  },
  {
   "cell_type": "markdown",
   "id": "7316983f",
   "metadata": {},
   "source": [
    "# TFIDF"
   ]
  },
  {
   "cell_type": "code",
   "execution_count": 27,
   "id": "cee6eccf",
   "metadata": {},
   "outputs": [],
   "source": [
    "from sklearn.model_selection import train_test_split\n",
    "from sklearn.feature_extraction.text import TfidfVectorizer\n",
    "from sklearn.ensemble import RandomForestClassifier\n",
    "from sklearn.metrics import accuracy_score\n",
    "\n",
    "# Splitting the data into features (X) and target (y)\n",
    "y = df['Category']\n",
    "X = df['Resume']\n",
    "\n",
    "# Train-test split\n",
    "X_train, X_test, y_train, y_test = train_test_split(X, y, test_size=0.2, random_state=42)\n",
    "\n",
    "# TF-IDF vectorization\n",
    "tfidf_vectorizer = TfidfVectorizer()\n",
    "X_train_tfidf = tfidf_vectorizer.fit_transform(X_train)\n",
    "X_test_tfidf = tfidf_vectorizer.transform(X_test)"
   ]
  },
  {
   "cell_type": "code",
   "execution_count": 28,
   "id": "447a8441",
   "metadata": {},
   "outputs": [
    {
     "name": "stdout",
     "output_type": "stream",
     "text": [
      "Accuracy: 1.0\n"
     ]
    }
   ],
   "source": [
    "# RandomForestClassifier\n",
    "rf_classifier = RandomForestClassifier()\n",
    "rf_classifier.fit(X_train_tfidf, y_train)\n",
    "\n",
    "# Predictions\n",
    "y_pred = rf_classifier.predict(X_test_tfidf)\n",
    "\n",
    "# Accuracy\n",
    "accuracy = accuracy_score(y_test, y_pred)\n",
    "print(\"Accuracy:\", accuracy)"
   ]
  },
  {
   "cell_type": "markdown",
   "id": "a113c01e",
   "metadata": {},
   "source": [
    "# Recommendation"
   ]
  },
  {
   "cell_type": "code",
   "execution_count": 29,
   "id": "49484fd1",
   "metadata": {},
   "outputs": [],
   "source": [
    "# Clean resume\n",
    "import re\n",
    "def cleanResume(txt):\n",
    "    cleanText = re.sub('http\\S+\\s', ' ', txt)\n",
    "    cleanText = re.sub('RT|cc', ' ', cleanText)\n",
    "    cleanText = re.sub('#\\S+\\s', ' ', cleanText)\n",
    "    cleanText = re.sub('@\\S+', '  ', cleanText)  \n",
    "    cleanText = re.sub('[%s]' % re.escape(\"\"\"!\"#$%&'()*+,-./:;<=>?@[\\]^_`{|}~\"\"\"), ' ', cleanText)\n",
    "    cleanText = re.sub(r'[^\\x00-\\x7f]', ' ', cleanText) \n",
    "    cleanText = re.sub('\\s+', ' ', cleanText)\n",
    "    return cleanText\n",
    "\n",
    "\n",
    "# Prediction and Category Name\n",
    "def job_recommendation(resume_text):\n",
    "    resume_text= cleanResume(resume_text)\n",
    "    resume_tfidf = tfidf_vectorizer.transform([resume_text])\n",
    "    predicted_category = rf_classifier.predict(resume_tfidf)[0]\n",
    "    return predicted_category"
   ]
  },
  {
   "cell_type": "code",
   "execution_count": 30,
   "id": "9d7154f1",
   "metadata": {},
   "outputs": [],
   "source": [
    "import pickle\n",
    "pickle.dump(rf_classifier,open('rf_classifier_job_recommendation.pkl','wb'))\n",
    "pickle.dump(tfidf_vectorizer,open('tfidf_vectorizer_job_recommendation.pkl','wb'))"
   ]
  },
  {
   "cell_type": "code",
   "execution_count": null,
   "id": "ccd85c1f",
   "metadata": {},
   "outputs": [],
   "source": []
  }
 ],
 "metadata": {
  "kernelspec": {
   "display_name": "Python 3 (ipykernel)",
   "language": "python",
   "name": "python3"
  },
  "language_info": {
   "codemirror_mode": {
    "name": "ipython",
    "version": 3
   },
   "file_extension": ".py",
   "mimetype": "text/x-python",
   "name": "python",
   "nbconvert_exporter": "python",
   "pygments_lexer": "ipython3",
   "version": "3.11.1"
  }
 },
 "nbformat": 4,
 "nbformat_minor": 5
}
